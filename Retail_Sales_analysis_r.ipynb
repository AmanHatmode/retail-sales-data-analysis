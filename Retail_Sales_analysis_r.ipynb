{
  "nbformat": 4,
  "nbformat_minor": 0,
  "metadata": {
    "colab": {
      "provenance": []
    },
    "kernelspec": {
      "name": "ir",
      "display_name": "R"
    },
    "language_info": {
      "name": "R"
    }
  },
  "cells": [
    {
      "cell_type": "code",
      "execution_count": 1,
      "metadata": {
        "id": "N5GhnQLYhLlM"
      },
      "outputs": [],
      "source": [
        "data<-read.csv(\"/content/retail_sales_dataset (2).csv\")"
      ]
    },
    {
      "cell_type": "code",
      "source": [
        "df <- read.csv(\"/content/retail_sales_dataset (2).csv\", stringsAsFactors = FALSE)"
      ],
      "metadata": {
        "id": "IrjQKJFMhVOK"
      },
      "execution_count": 2,
      "outputs": []
    },
    {
      "cell_type": "code",
      "source": [
        "# Check for missing values in each column\n",
        "colSums(is.na(data))\n",
        "\n",
        "# Output shows 0 missing values in all columns, so no imputation is needed\n",
        "\n"
      ],
      "metadata": {
        "colab": {
          "base_uri": "https://localhost:8080/",
          "height": 52
        },
        "id": "jmy9FeggsEoX",
        "outputId": "8690c851-7f02-49bf-9976-e92f8a19081e"
      },
      "execution_count": 6,
      "outputs": [
        {
          "output_type": "display_data",
          "data": {
            "text/html": [
              "<style>\n",
              ".dl-inline {width: auto; margin:0; padding: 0}\n",
              ".dl-inline>dt, .dl-inline>dd {float: none; width: auto; display: inline-block}\n",
              ".dl-inline>dt::after {content: \":\\0020\"; padding-right: .5ex}\n",
              ".dl-inline>dt:not(:first-of-type) {padding-left: .5ex}\n",
              "</style><dl class=dl-inline><dt>Transaction.ID</dt><dd>0</dd><dt>Date</dt><dd>0</dd><dt>Customer.ID</dt><dd>0</dd><dt>Gender</dt><dd>0</dd><dt>Age</dt><dd>0</dd><dt>Product.Category</dt><dd>0</dd><dt>Quantity</dt><dd>0</dd><dt>Price.per.Unit</dt><dd>0</dd><dt>Total.Amount</dt><dd>0</dd></dl>\n"
            ],
            "text/markdown": "Transaction.ID\n:   0Date\n:   0Customer.ID\n:   0Gender\n:   0Age\n:   0Product.Category\n:   0Quantity\n:   0Price.per.Unit\n:   0Total.Amount\n:   0\n\n",
            "text/latex": "\\begin{description*}\n\\item[Transaction.ID] 0\n\\item[Date] 0\n\\item[Customer.ID] 0\n\\item[Gender] 0\n\\item[Age] 0\n\\item[Product.Category] 0\n\\item[Quantity] 0\n\\item[Price.per.Unit] 0\n\\item[Total.Amount] 0\n\\end{description*}\n",
            "text/plain": [
              "  Transaction.ID             Date      Customer.ID           Gender \n",
              "               0                0                0                0 \n",
              "             Age Product.Category         Quantity   Price.per.Unit \n",
              "               0                0                0                0 \n",
              "    Total.Amount \n",
              "               0 "
            ]
          },
          "metadata": {}
        }
      ]
    },
    {
      "cell_type": "code",
      "source": [
        "install.packages(\"tidyverse\")"
      ],
      "metadata": {
        "colab": {
          "base_uri": "https://localhost:8080/"
        },
        "id": "W9Og0wBsh7pS",
        "outputId": "05ab6b51-67e2-433b-934e-39cd1c88d182"
      },
      "execution_count": null,
      "outputs": [
        {
          "output_type": "stream",
          "name": "stderr",
          "text": [
            "Installing package into ‘/usr/local/lib/R/site-library’\n",
            "(as ‘lib’ is unspecified)\n",
            "\n"
          ]
        }
      ]
    },
    {
      "cell_type": "code",
      "source": [
        "library(tidyverse)"
      ],
      "metadata": {
        "id": "FQAnox8miHgL"
      },
      "execution_count": null,
      "outputs": []
    },
    {
      "cell_type": "code",
      "source": [
        "head(data)"
      ],
      "metadata": {
        "colab": {
          "base_uri": "https://localhost:8080/",
          "height": 286
        },
        "id": "caTrn5GgiKbj",
        "outputId": "cf5b853d-2e51-487f-ac4a-2f0986f6a7f3"
      },
      "execution_count": null,
      "outputs": [
        {
          "output_type": "display_data",
          "data": {
            "text/html": [
              "<table class=\"dataframe\">\n",
              "<caption>A data.frame: 6 × 9</caption>\n",
              "<thead>\n",
              "\t<tr><th></th><th scope=col>Transaction.ID</th><th scope=col>Date</th><th scope=col>Customer.ID</th><th scope=col>Gender</th><th scope=col>Age</th><th scope=col>Product.Category</th><th scope=col>Quantity</th><th scope=col>Price.per.Unit</th><th scope=col>Total.Amount</th></tr>\n",
              "\t<tr><th></th><th scope=col>&lt;int&gt;</th><th scope=col>&lt;chr&gt;</th><th scope=col>&lt;chr&gt;</th><th scope=col>&lt;chr&gt;</th><th scope=col>&lt;int&gt;</th><th scope=col>&lt;chr&gt;</th><th scope=col>&lt;int&gt;</th><th scope=col>&lt;int&gt;</th><th scope=col>&lt;int&gt;</th></tr>\n",
              "</thead>\n",
              "<tbody>\n",
              "\t<tr><th scope=row>1</th><td>1</td><td>2023-11-24</td><td>CUST001</td><td>Male  </td><td>34</td><td>Beauty     </td><td>3</td><td> 50</td><td> 150</td></tr>\n",
              "\t<tr><th scope=row>2</th><td>2</td><td>2023-02-27</td><td>CUST002</td><td>Female</td><td>26</td><td>Clothing   </td><td>2</td><td>500</td><td>1000</td></tr>\n",
              "\t<tr><th scope=row>3</th><td>3</td><td>2023-01-13</td><td>CUST003</td><td>Male  </td><td>50</td><td>Electronics</td><td>1</td><td> 30</td><td>  30</td></tr>\n",
              "\t<tr><th scope=row>4</th><td>4</td><td>2023-05-21</td><td>CUST004</td><td>Male  </td><td>37</td><td>Clothing   </td><td>1</td><td>500</td><td> 500</td></tr>\n",
              "\t<tr><th scope=row>5</th><td>5</td><td>2023-05-06</td><td>CUST005</td><td>Male  </td><td>30</td><td>Beauty     </td><td>2</td><td> 50</td><td> 100</td></tr>\n",
              "\t<tr><th scope=row>6</th><td>6</td><td>2023-04-25</td><td>CUST006</td><td>Female</td><td>45</td><td>Beauty     </td><td>1</td><td> 30</td><td>  30</td></tr>\n",
              "</tbody>\n",
              "</table>\n"
            ],
            "text/markdown": "\nA data.frame: 6 × 9\n\n| <!--/--> | Transaction.ID &lt;int&gt; | Date &lt;chr&gt; | Customer.ID &lt;chr&gt; | Gender &lt;chr&gt; | Age &lt;int&gt; | Product.Category &lt;chr&gt; | Quantity &lt;int&gt; | Price.per.Unit &lt;int&gt; | Total.Amount &lt;int&gt; |\n|---|---|---|---|---|---|---|---|---|---|\n| 1 | 1 | 2023-11-24 | CUST001 | Male   | 34 | Beauty      | 3 |  50 |  150 |\n| 2 | 2 | 2023-02-27 | CUST002 | Female | 26 | Clothing    | 2 | 500 | 1000 |\n| 3 | 3 | 2023-01-13 | CUST003 | Male   | 50 | Electronics | 1 |  30 |   30 |\n| 4 | 4 | 2023-05-21 | CUST004 | Male   | 37 | Clothing    | 1 | 500 |  500 |\n| 5 | 5 | 2023-05-06 | CUST005 | Male   | 30 | Beauty      | 2 |  50 |  100 |\n| 6 | 6 | 2023-04-25 | CUST006 | Female | 45 | Beauty      | 1 |  30 |   30 |\n\n",
            "text/latex": "A data.frame: 6 × 9\n\\begin{tabular}{r|lllllllll}\n  & Transaction.ID & Date & Customer.ID & Gender & Age & Product.Category & Quantity & Price.per.Unit & Total.Amount\\\\\n  & <int> & <chr> & <chr> & <chr> & <int> & <chr> & <int> & <int> & <int>\\\\\n\\hline\n\t1 & 1 & 2023-11-24 & CUST001 & Male   & 34 & Beauty      & 3 &  50 &  150\\\\\n\t2 & 2 & 2023-02-27 & CUST002 & Female & 26 & Clothing    & 2 & 500 & 1000\\\\\n\t3 & 3 & 2023-01-13 & CUST003 & Male   & 50 & Electronics & 1 &  30 &   30\\\\\n\t4 & 4 & 2023-05-21 & CUST004 & Male   & 37 & Clothing    & 1 & 500 &  500\\\\\n\t5 & 5 & 2023-05-06 & CUST005 & Male   & 30 & Beauty      & 2 &  50 &  100\\\\\n\t6 & 6 & 2023-04-25 & CUST006 & Female & 45 & Beauty      & 1 &  30 &   30\\\\\n\\end{tabular}\n",
            "text/plain": [
              "  Transaction.ID Date       Customer.ID Gender Age Product.Category Quantity\n",
              "1 1              2023-11-24 CUST001     Male   34  Beauty           3       \n",
              "2 2              2023-02-27 CUST002     Female 26  Clothing         2       \n",
              "3 3              2023-01-13 CUST003     Male   50  Electronics      1       \n",
              "4 4              2023-05-21 CUST004     Male   37  Clothing         1       \n",
              "5 5              2023-05-06 CUST005     Male   30  Beauty           2       \n",
              "6 6              2023-04-25 CUST006     Female 45  Beauty           1       \n",
              "  Price.per.Unit Total.Amount\n",
              "1  50             150        \n",
              "2 500            1000        \n",
              "3  30              30        \n",
              "4 500             500        \n",
              "5  50             100        \n",
              "6  30              30        "
            ]
          },
          "metadata": {}
        }
      ]
    },
    {
      "cell_type": "code",
      "source": [
        "str(data)"
      ],
      "metadata": {
        "colab": {
          "base_uri": "https://localhost:8080/"
        },
        "id": "K5X025gbiNKb",
        "outputId": "68dc519c-e35d-4973-cdea-3d683bcfba64"
      },
      "execution_count": null,
      "outputs": [
        {
          "output_type": "stream",
          "name": "stdout",
          "text": [
            "'data.frame':\t1000 obs. of  9 variables:\n",
            " $ Transaction.ID  : int  1 2 3 4 5 6 7 8 9 10 ...\n",
            " $ Date            : chr  \"2023-11-24\" \"2023-02-27\" \"2023-01-13\" \"2023-05-21\" ...\n",
            " $ Customer.ID     : chr  \"CUST001\" \"CUST002\" \"CUST003\" \"CUST004\" ...\n",
            " $ Gender          : chr  \"Male\" \"Female\" \"Male\" \"Male\" ...\n",
            " $ Age             : int  34 26 50 37 30 45 46 30 63 52 ...\n",
            " $ Product.Category: chr  \"Beauty\" \"Clothing\" \"Electronics\" \"Clothing\" ...\n",
            " $ Quantity        : int  3 2 1 1 2 1 2 4 2 4 ...\n",
            " $ Price.per.Unit  : int  50 500 30 500 50 30 25 25 300 50 ...\n",
            " $ Total.Amount    : int  150 1000 30 500 100 30 50 100 600 200 ...\n"
          ]
        }
      ]
    },
    {
      "cell_type": "code",
      "source": [
        "summary(data)"
      ],
      "metadata": {
        "colab": {
          "base_uri": "https://localhost:8080/",
          "height": 381
        },
        "id": "ogXCk1wviQDD",
        "outputId": "e6594ab2-a653-4b10-f80b-88b110c66d4b"
      },
      "execution_count": null,
      "outputs": [
        {
          "output_type": "display_data",
          "data": {
            "text/plain": [
              " Transaction.ID       Date           Customer.ID           Gender         \n",
              " Min.   :   1.0   Length:1000        Length:1000        Length:1000       \n",
              " 1st Qu.: 250.8   Class :character   Class :character   Class :character  \n",
              " Median : 500.5   Mode  :character   Mode  :character   Mode  :character  \n",
              " Mean   : 500.5                                                           \n",
              " 3rd Qu.: 750.2                                                           \n",
              " Max.   :1000.0                                                           \n",
              "      Age        Product.Category      Quantity     Price.per.Unit \n",
              " Min.   :18.00   Length:1000        Min.   :1.000   Min.   : 25.0  \n",
              " 1st Qu.:29.00   Class :character   1st Qu.:1.000   1st Qu.: 30.0  \n",
              " Median :42.00   Mode  :character   Median :3.000   Median : 50.0  \n",
              " Mean   :41.39                      Mean   :2.514   Mean   :179.9  \n",
              " 3rd Qu.:53.00                      3rd Qu.:4.000   3rd Qu.:300.0  \n",
              " Max.   :64.00                      Max.   :4.000   Max.   :500.0  \n",
              "  Total.Amount \n",
              " Min.   :  25  \n",
              " 1st Qu.:  60  \n",
              " Median : 135  \n",
              " Mean   : 456  \n",
              " 3rd Qu.: 900  \n",
              " Max.   :2000  "
            ]
          },
          "metadata": {}
        }
      ]
    },
    {
      "cell_type": "code",
      "source": [
        "names(data) <- tolower(gsub(\" \", \"_\", names(data)))"
      ],
      "metadata": {
        "id": "3VqCqgsGiSKY"
      },
      "execution_count": null,
      "outputs": []
    },
    {
      "cell_type": "code",
      "source": [
        "data$revenue[is.na(data$revenue)] <- median(data$revenue, na.rm = TRUE)"
      ],
      "metadata": {
        "id": "7U8ZCOlEiW84"
      },
      "execution_count": null,
      "outputs": []
    },
    {
      "cell_type": "code",
      "source": [
        "names(data)"
      ],
      "metadata": {
        "colab": {
          "base_uri": "https://localhost:8080/",
          "height": 34
        },
        "id": "ncNTeBPTidc1",
        "outputId": "77a5c7b5-bce4-44e8-b0ae-6a1de052394b"
      },
      "execution_count": null,
      "outputs": [
        {
          "output_type": "display_data",
          "data": {
            "text/html": [
              "<style>\n",
              ".list-inline {list-style: none; margin:0; padding: 0}\n",
              ".list-inline>li {display: inline-block}\n",
              ".list-inline>li:not(:last-child)::after {content: \"\\00b7\"; padding: 0 .5ex}\n",
              "</style>\n",
              "<ol class=list-inline><li>'transaction.id'</li><li>'date'</li><li>'customer.id'</li><li>'gender'</li><li>'age'</li><li>'product.category'</li><li>'quantity'</li><li>'price.per.unit'</li><li>'total.amount'</li></ol>\n"
            ],
            "text/markdown": "1. 'transaction.id'\n2. 'date'\n3. 'customer.id'\n4. 'gender'\n5. 'age'\n6. 'product.category'\n7. 'quantity'\n8. 'price.per.unit'\n9. 'total.amount'\n\n\n",
            "text/latex": "\\begin{enumerate*}\n\\item 'transaction.id'\n\\item 'date'\n\\item 'customer.id'\n\\item 'gender'\n\\item 'age'\n\\item 'product.category'\n\\item 'quantity'\n\\item 'price.per.unit'\n\\item 'total.amount'\n\\end{enumerate*}\n",
            "text/plain": [
              "[1] \"transaction.id\"   \"date\"             \"customer.id\"      \"gender\"          \n",
              "[5] \"age\"              \"product.category\" \"quantity\"         \"price.per.unit\"  \n",
              "[9] \"total.amount\"    "
            ]
          },
          "metadata": {}
        }
      ]
    },
    {
      "cell_type": "code",
      "source": [
        "sum(is.na(data$Category))"
      ],
      "metadata": {
        "colab": {
          "base_uri": "https://localhost:8080/",
          "height": 34
        },
        "id": "Lc1Is2alifjY",
        "outputId": "e4ff2009-a9f0-47dc-a478-67a08cc4c2d3"
      },
      "execution_count": null,
      "outputs": [
        {
          "output_type": "display_data",
          "data": {
            "text/html": [
              "0"
            ],
            "text/markdown": "0",
            "text/latex": "0",
            "text/plain": [
              "[1] 0"
            ]
          },
          "metadata": {}
        }
      ]
    },
    {
      "cell_type": "code",
      "source": [
        "# First convert to character (if not already)\n",
        "data$product.category <- as.character(data$product.category)\n",
        "\n",
        "# Then replace NAs with \"Unknown\"\n",
        "data$product.category[is.na(data$product.category)] <- \"Unknown\""
      ],
      "metadata": {
        "id": "_dA2TgyVij4T"
      },
      "execution_count": null,
      "outputs": []
    },
    {
      "cell_type": "code",
      "source": [
        "data <- data %>% distinct()"
      ],
      "metadata": {
        "id": "2ngjz1NvimuO"
      },
      "execution_count": null,
      "outputs": []
    },
    {
      "cell_type": "code",
      "source": [
        "data$date <- as.Date(data$date, format=\"%Y-%m-%d\")  # Adjust format as needed\""
      ],
      "metadata": {
        "id": "nvkcWawyipSk"
      },
      "execution_count": null,
      "outputs": []
    },
    {
      "cell_type": "code",
      "source": [
        "\n",
        "data <- data %>% filter(total.amount >= 0)"
      ],
      "metadata": {
        "id": "5SO7sKfLir8M"
      },
      "execution_count": null,
      "outputs": []
    },
    {
      "cell_type": "code",
      "source": [
        "data$total.amount <- as.numeric(data$total.amount)\n",
        "data <- data %>% filter(total.amount >= 0)"
      ],
      "metadata": {
        "id": "zk1ctWF-it8L"
      },
      "execution_count": null,
      "outputs": []
    },
    {
      "cell_type": "code",
      "source": [
        "data$date<-as_datetime(data$date)"
      ],
      "metadata": {
        "id": "NsQdfFvvjb_Y"
      },
      "execution_count": null,
      "outputs": []
    },
    {
      "cell_type": "code",
      "source": [
        "install.packages(\"lubridate\")\n",
        "library(lubridate)\n"
      ],
      "metadata": {
        "colab": {
          "base_uri": "https://localhost:8080/"
        },
        "id": "_S7SDOqskBD-",
        "outputId": "4f05e146-61cc-46a8-cf79-5d76979d8a20"
      },
      "execution_count": null,
      "outputs": [
        {
          "output_type": "stream",
          "name": "stderr",
          "text": [
            "Installing package into ‘/usr/local/lib/R/site-library’\n",
            "(as ‘lib’ is unspecified)\n",
            "\n"
          ]
        }
      ]
    },
    {
      "cell_type": "code",
      "source": [
        "\n",
        "data<-data %>%\n",
        "  mutate(\n",
        "  Revenue=quantity*price.per.unit,\n",
        "  Month=floor_date(date,\"month\"),\n",
        "  date=as.Date(date)\n",
        "  )"
      ],
      "metadata": {
        "id": "Z8F79K9vkzCd"
      },
      "execution_count": null,
      "outputs": []
    },
    {
      "cell_type": "code",
      "source": [
        "colSums(is.na(data))"
      ],
      "metadata": {
        "colab": {
          "base_uri": "https://localhost:8080/",
          "height": 34
        },
        "id": "YjcWY4vek48e",
        "outputId": "855d43ca-c690-437d-92c2-de247d41f1d5"
      },
      "execution_count": null,
      "outputs": [
        {
          "output_type": "display_data",
          "data": {
            "text/html": [
              "<style>\n",
              ".dl-inline {width: auto; margin:0; padding: 0}\n",
              ".dl-inline>dt, .dl-inline>dd {float: none; width: auto; display: inline-block}\n",
              ".dl-inline>dt::after {content: \":\\0020\"; padding-right: .5ex}\n",
              ".dl-inline>dt:not(:first-of-type) {padding-left: .5ex}\n",
              "</style><dl class=dl-inline><dt>transaction.id</dt><dd>0</dd><dt>date</dt><dd>0</dd><dt>customer.id</dt><dd>0</dd><dt>gender</dt><dd>0</dd><dt>age</dt><dd>0</dd><dt>product.category</dt><dd>0</dd><dt>quantity</dt><dd>0</dd><dt>price.per.unit</dt><dd>0</dd><dt>total.amount</dt><dd>0</dd><dt>Revenue</dt><dd>0</dd><dt>Month</dt><dd>0</dd></dl>\n"
            ],
            "text/markdown": "transaction.id\n:   0date\n:   0customer.id\n:   0gender\n:   0age\n:   0product.category\n:   0quantity\n:   0price.per.unit\n:   0total.amount\n:   0Revenue\n:   0Month\n:   0\n\n",
            "text/latex": "\\begin{description*}\n\\item[transaction.id] 0\n\\item[date] 0\n\\item[customer.id] 0\n\\item[gender] 0\n\\item[age] 0\n\\item[product.category] 0\n\\item[quantity] 0\n\\item[price.per.unit] 0\n\\item[total.amount] 0\n\\item[Revenue] 0\n\\item[Month] 0\n\\end{description*}\n",
            "text/plain": [
              "  transaction.id             date      customer.id           gender \n",
              "               0                0                0                0 \n",
              "             age product.category         quantity   price.per.unit \n",
              "               0                0                0                0 \n",
              "    total.amount          Revenue            Month \n",
              "               0                0                0 "
            ]
          },
          "metadata": {}
        }
      ]
    },
    {
      "cell_type": "code",
      "source": [
        "data$Total_Amount<-with(data,ifelse(!is.na(Quantity) & !is.na(Price.per.Unit),\n",
        "                                    Quantity*Price.per.Unit,\n",
        "                                    Total_amount))"
      ],
      "metadata": {
        "id": "9fo9lcT6lkw_"
      },
      "execution_count": null,
      "outputs": []
    },
    {
      "cell_type": "code",
      "source": [
        "data<-data[, !(names(data) %in% c(\"transaction.id\"))]"
      ],
      "metadata": {
        "id": "u6Xv71Eeo_5P"
      },
      "execution_count": null,
      "outputs": []
    },
    {
      "cell_type": "code",
      "source": [
        "data"
      ],
      "metadata": {
        "id": "o2M--pImn-jV"
      },
      "execution_count": null,
      "outputs": []
    },
    {
      "cell_type": "code",
      "metadata": {
        "colab": {
          "base_uri": "https://localhost:8080/",
          "height": 34
        },
        "id": "5c53258e",
        "outputId": "5b554d61-b105-4250-8c03-ca947b92d99f"
      },
      "source": [
        "names(data)"
      ],
      "execution_count": null,
      "outputs": [
        {
          "output_type": "display_data",
          "data": {
            "text/html": [
              "<style>\n",
              ".list-inline {list-style: none; margin:0; padding: 0}\n",
              ".list-inline>li {display: inline-block}\n",
              ".list-inline>li:not(:last-child)::after {content: \"\\00b7\"; padding: 0 .5ex}\n",
              "</style>\n",
              "<ol class=list-inline><li>'Date'</li><li>'Customer.ID'</li><li>'Gender'</li><li>'Age'</li><li>'Product.Category'</li><li>'Quantity'</li><li>'Price.per.Unit'</li><li>'Total.Amount'</li><li>'Total_Amount'</li></ol>\n"
            ],
            "text/markdown": "1. 'Date'\n2. 'Customer.ID'\n3. 'Gender'\n4. 'Age'\n5. 'Product.Category'\n6. 'Quantity'\n7. 'Price.per.Unit'\n8. 'Total.Amount'\n9. 'Total_Amount'\n\n\n",
            "text/latex": "\\begin{enumerate*}\n\\item 'Date'\n\\item 'Customer.ID'\n\\item 'Gender'\n\\item 'Age'\n\\item 'Product.Category'\n\\item 'Quantity'\n\\item 'Price.per.Unit'\n\\item 'Total.Amount'\n\\item 'Total\\_Amount'\n\\end{enumerate*}\n",
            "text/plain": [
              "[1] \"Date\"             \"Customer.ID\"      \"Gender\"           \"Age\"             \n",
              "[5] \"Product.Category\" \"Quantity\"         \"Price.per.Unit\"   \"Total.Amount\"    \n",
              "[9] \"Total_Amount\"    "
            ]
          },
          "metadata": {}
        }
      ]
    },
    {
      "cell_type": "code",
      "source": [
        "mean_age=mean(data$Age,na.rm=TRUE)\n",
        "mean_age"
      ],
      "metadata": {
        "colab": {
          "base_uri": "https://localhost:8080/",
          "height": 34
        },
        "id": "C3QPbxsYpM9U",
        "outputId": "3097169b-56a1-4e25-e4f2-479d256f76be"
      },
      "execution_count": null,
      "outputs": [
        {
          "output_type": "display_data",
          "data": {
            "text/html": [
              "41.392"
            ],
            "text/markdown": "41.392",
            "text/latex": "41.392",
            "text/plain": [
              "[1] 41.392"
            ]
          },
          "metadata": {}
        }
      ]
    },
    {
      "cell_type": "code",
      "source": [
        "\n",
        "mean_Quantity=mean(data$Quantity,na.rm=TRUE)\n",
        "mean_Quantity\n",
        "data$Quantity[is.na(data$Quantity)]=mean_Quantity"
      ],
      "metadata": {
        "colab": {
          "base_uri": "https://localhost:8080/",
          "height": 34
        },
        "id": "MhBUHoO5pWCr",
        "outputId": "ebed56b6-2abd-4582-cd0b-1846e6198b92"
      },
      "execution_count": null,
      "outputs": [
        {
          "output_type": "display_data",
          "data": {
            "text/html": [
              "2.514"
            ],
            "text/markdown": "2.514",
            "text/latex": "2.514",
            "text/plain": [
              "[1] 2.514"
            ]
          },
          "metadata": {}
        }
      ]
    },
    {
      "cell_type": "code",
      "source": [
        "data$Age[is.na(data$Age)]=mean_age"
      ],
      "metadata": {
        "id": "eJiBdwuWqLAs"
      },
      "execution_count": null,
      "outputs": []
    },
    {
      "cell_type": "code",
      "source": [
        "mean_price=mean(data$Price.per.Unit,na.rm=TRUE)"
      ],
      "metadata": {
        "id": "3Wilj61Wqdjh"
      },
      "execution_count": null,
      "outputs": []
    },
    {
      "cell_type": "code",
      "source": [
        "mean_price"
      ],
      "metadata": {
        "colab": {
          "base_uri": "https://localhost:8080/",
          "height": 34
        },
        "id": "cYzr3tkoqlZ4",
        "outputId": "6cb4b2d7-6043-43c0-c130-86c11f07fd5c"
      },
      "execution_count": null,
      "outputs": [
        {
          "output_type": "display_data",
          "data": {
            "text/html": [
              "179.89"
            ],
            "text/markdown": "179.89",
            "text/latex": "179.89",
            "text/plain": [
              "[1] 179.89"
            ]
          },
          "metadata": {}
        }
      ]
    },
    {
      "cell_type": "code",
      "source": [
        "data=data %>% mutate(Gender=ifelse(Gender==\"Male\",1,0))"
      ],
      "metadata": {
        "id": "cUklf-ZAqn5M"
      },
      "execution_count": null,
      "outputs": []
    },
    {
      "cell_type": "code",
      "source": [
        "product_category=table(data$Product.Category)\n",
        "product_category"
      ],
      "metadata": {
        "colab": {
          "base_uri": "https://localhost:8080/",
          "height": 69
        },
        "id": "bTZGbLNFq29m",
        "outputId": "8248557a-c0c6-4f34-8f4c-4702c59e4d7f"
      },
      "execution_count": null,
      "outputs": [
        {
          "output_type": "display_data",
          "data": {
            "text/plain": [
              "\n",
              "     Beauty    Clothing Electronics \n",
              "        307         351         342 "
            ]
          },
          "metadata": {}
        }
      ]
    },
    {
      "cell_type": "code",
      "source": [
        "data$Category_encoded<-as.numeric(factor(data$Product.Category))\n",
        "data<-data%>%select(-Product.Category)"
      ],
      "metadata": {
        "id": "kDnqxEfzrDDe"
      },
      "execution_count": null,
      "outputs": []
    },
    {
      "cell_type": "code",
      "source": [
        "head(data)"
      ],
      "metadata": {
        "colab": {
          "base_uri": "https://localhost:8080/",
          "height": 286
        },
        "id": "dpuHE3durlT1",
        "outputId": "259a94db-dfb4-48b8-a198-425b3d46e0b8"
      },
      "execution_count": null,
      "outputs": [
        {
          "output_type": "display_data",
          "data": {
            "text/html": [
              "<table class=\"dataframe\">\n",
              "<caption>A data.frame: 6 × 9</caption>\n",
              "<thead>\n",
              "\t<tr><th></th><th scope=col>Date</th><th scope=col>Customer.ID</th><th scope=col>Gender</th><th scope=col>Age</th><th scope=col>Quantity</th><th scope=col>Price.per.Unit</th><th scope=col>Total.Amount</th><th scope=col>Total_Amount</th><th scope=col>Category_encoded</th></tr>\n",
              "\t<tr><th></th><th scope=col>&lt;chr&gt;</th><th scope=col>&lt;chr&gt;</th><th scope=col>&lt;dbl&gt;</th><th scope=col>&lt;dbl&gt;</th><th scope=col>&lt;dbl&gt;</th><th scope=col>&lt;dbl&gt;</th><th scope=col>&lt;int&gt;</th><th scope=col>&lt;int&gt;</th><th scope=col>&lt;dbl&gt;</th></tr>\n",
              "</thead>\n",
              "<tbody>\n",
              "\t<tr><th scope=row>1</th><td>2023-11-24</td><td>CUST001</td><td>1</td><td>34</td><td>3</td><td> 50</td><td> 150</td><td> 150</td><td>1</td></tr>\n",
              "\t<tr><th scope=row>2</th><td>2023-02-27</td><td>CUST002</td><td>0</td><td>26</td><td>2</td><td>500</td><td>1000</td><td>1000</td><td>2</td></tr>\n",
              "\t<tr><th scope=row>3</th><td>2023-01-13</td><td>CUST003</td><td>1</td><td>50</td><td>1</td><td> 30</td><td>  30</td><td>  30</td><td>3</td></tr>\n",
              "\t<tr><th scope=row>4</th><td>2023-05-21</td><td>CUST004</td><td>1</td><td>37</td><td>1</td><td>500</td><td> 500</td><td> 500</td><td>2</td></tr>\n",
              "\t<tr><th scope=row>5</th><td>2023-05-06</td><td>CUST005</td><td>1</td><td>30</td><td>2</td><td> 50</td><td> 100</td><td> 100</td><td>1</td></tr>\n",
              "\t<tr><th scope=row>6</th><td>2023-04-25</td><td>CUST006</td><td>0</td><td>45</td><td>1</td><td> 30</td><td>  30</td><td>  30</td><td>1</td></tr>\n",
              "</tbody>\n",
              "</table>\n"
            ],
            "text/markdown": "\nA data.frame: 6 × 9\n\n| <!--/--> | Date &lt;chr&gt; | Customer.ID &lt;chr&gt; | Gender &lt;dbl&gt; | Age &lt;dbl&gt; | Quantity &lt;dbl&gt; | Price.per.Unit &lt;dbl&gt; | Total.Amount &lt;int&gt; | Total_Amount &lt;int&gt; | Category_encoded &lt;dbl&gt; |\n|---|---|---|---|---|---|---|---|---|---|\n| 1 | 2023-11-24 | CUST001 | 1 | 34 | 3 |  50 |  150 |  150 | 1 |\n| 2 | 2023-02-27 | CUST002 | 0 | 26 | 2 | 500 | 1000 | 1000 | 2 |\n| 3 | 2023-01-13 | CUST003 | 1 | 50 | 1 |  30 |   30 |   30 | 3 |\n| 4 | 2023-05-21 | CUST004 | 1 | 37 | 1 | 500 |  500 |  500 | 2 |\n| 5 | 2023-05-06 | CUST005 | 1 | 30 | 2 |  50 |  100 |  100 | 1 |\n| 6 | 2023-04-25 | CUST006 | 0 | 45 | 1 |  30 |   30 |   30 | 1 |\n\n",
            "text/latex": "A data.frame: 6 × 9\n\\begin{tabular}{r|lllllllll}\n  & Date & Customer.ID & Gender & Age & Quantity & Price.per.Unit & Total.Amount & Total\\_Amount & Category\\_encoded\\\\\n  & <chr> & <chr> & <dbl> & <dbl> & <dbl> & <dbl> & <int> & <int> & <dbl>\\\\\n\\hline\n\t1 & 2023-11-24 & CUST001 & 1 & 34 & 3 &  50 &  150 &  150 & 1\\\\\n\t2 & 2023-02-27 & CUST002 & 0 & 26 & 2 & 500 & 1000 & 1000 & 2\\\\\n\t3 & 2023-01-13 & CUST003 & 1 & 50 & 1 &  30 &   30 &   30 & 3\\\\\n\t4 & 2023-05-21 & CUST004 & 1 & 37 & 1 & 500 &  500 &  500 & 2\\\\\n\t5 & 2023-05-06 & CUST005 & 1 & 30 & 2 &  50 &  100 &  100 & 1\\\\\n\t6 & 2023-04-25 & CUST006 & 0 & 45 & 1 &  30 &   30 &   30 & 1\\\\\n\\end{tabular}\n",
            "text/plain": [
              "  Date       Customer.ID Gender Age Quantity Price.per.Unit Total.Amount\n",
              "1 2023-11-24 CUST001     1      34  3         50             150        \n",
              "2 2023-02-27 CUST002     0      26  2        500            1000        \n",
              "3 2023-01-13 CUST003     1      50  1         30              30        \n",
              "4 2023-05-21 CUST004     1      37  1        500             500        \n",
              "5 2023-05-06 CUST005     1      30  2         50             100        \n",
              "6 2023-04-25 CUST006     0      45  1         30              30        \n",
              "  Total_Amount Category_encoded\n",
              "1  150         1               \n",
              "2 1000         2               \n",
              "3   30         3               \n",
              "4  500         2               \n",
              "5  100         1               \n",
              "6   30         1               "
            ]
          },
          "metadata": {}
        }
      ]
    },
    {
      "cell_type": "code",
      "source": [
        "hist(data$Age,col=\"yellow green\",\n",
        "     breaks=10,xlab=\"Age of customer\",\n",
        "     main=\"Age Distribution\")"
      ],
      "metadata": {
        "colab": {
          "base_uri": "https://localhost:8080/",
          "height": 437
        },
        "id": "FpcLvLm2rnB-",
        "outputId": "c61d2072-2e72-4a4a-8f81-a09422deab8d"
      },
      "execution_count": null,
      "outputs": [
        {
          "output_type": "display_data",
          "data": {
            "text/plain": [
              "Plot with title “Age Distribution”"
            ],
            "image/png": "[encoded data removed]"
          },
          "metadata": {
            "image/png": {
              "width": 420,
              "height": 420
            }
          }
        }
      ]
    },
    {
      "cell_type": "code",
      "source": [
        "#Load libraries\n",
        "library(ggplot2)\n",
        "library(readr)\n",
        "library(dplyr)\n",
        "\n",
        "#Load the dataset\n",
        "data<-read.csv(\"/content/retail_sales_dataset.csv\")"
      ],
      "metadata": {
        "id": "ZNoRQOofr3zR"
      },
      "execution_count": null,
      "outputs": []
    },
    {
      "cell_type": "code",
      "source": [
        "\n",
        "names(data) <- make.names(names(data))\n",
        "\n"
      ],
      "metadata": {
        "id": "PbQ34PqTs4JD"
      },
      "execution_count": null,
      "outputs": []
    },
    {
      "cell_type": "code",
      "source": [
        "#Calculate average spend per transaction by gender\n",
        "avg_spend_gender <- data %>%\n",
        "  group_by(Gender) %>%\n",
        "  summarise(AveragePerTransaction = mean(Total.Amount, na.rm = TRUE))\n"
      ],
      "metadata": {
        "id": "SbjsOTS6tRt8"
      },
      "execution_count": null,
      "outputs": []
    },
    {
      "cell_type": "code",
      "source": [
        "#Plot\n",
        "ggplot(avg_spend_gender, aes(x=Gender, y=AveragePerTransaction, fill=Gender)) +\n",
        "  geom_bar(stat=\"identity\", width=0.5) +\n",
        "  labs(title = \"Average Spend per Transaction by Gender\",\n",
        "       x = \"Gender\",\n",
        "       y = \"Average Transaction Amount\") +\n",
        "  theme_minimal()\n"
      ],
      "metadata": {
        "colab": {
          "base_uri": "https://localhost:8080/",
          "height": 437
        },
        "id": "VBZtXIonuLm_",
        "outputId": "e4da8e68-b008-460c-f548-867ab2b6671e"
      },
      "execution_count": null,
      "outputs": [
        {
          "output_type": "display_data",
          "data": {
            "text/plain": [
              "plot without title"
            ],
            "image/png": "[encoded data removed]"
          },
          "metadata": {
            "image/png": {
              "width": 420,
              "height": 420
            }
          }
        }
      ]
    },
    {
      "cell_type": "code",
      "source": [
        "#Load necessary libraries\n",
        "library(ggplot2)\n",
        "library(readr)\n",
        "library(dplyr)\n"
      ],
      "metadata": {
        "id": "AsEJjjnqvD2a"
      },
      "execution_count": null,
      "outputs": []
    },
    {
      "cell_type": "code",
      "source": [
        "#Group by product category and calculate total sales\n",
        "category_sales <- data %>%\n",
        "  group_by(`Product.Category`) %>%\n",
        "  summarise(TotalSales = sum(`Total.Amount`, na.rm = TRUE)) %>%\n",
        "  arrange(desc(TotalSales))\n"
      ],
      "metadata": {
        "id": "SYfIKK_rvsPZ"
      },
      "execution_count": null,
      "outputs": []
    },
    {
      "cell_type": "code",
      "source": [
        "#Bar plot of total sales by product category\n",
        "ggplot(category_sales, aes(x = reorder(`Product.Category`, TotalSales), y = TotalSales, fill = `Product.Category`)) +\n",
        "  geom_bar(stat = \"identity\") +\n",
        "  coord_flip() +\n",
        "  labs(title = \"Total Sales by Product Category\",\n",
        "       x = \"Product Category\",\n",
        "       y = \"Total Sales\") +\n",
        "  theme_minimal() +\n",
        "  theme(legend.position = \"none\")\n"
      ],
      "metadata": {
        "colab": {
          "base_uri": "https://localhost:8080/",
          "height": 437
        },
        "id": "Q4td881_wJLM",
        "outputId": "25309cd6-b2fe-4641-a1df-863832419c0a"
      },
      "execution_count": null,
      "outputs": [
        {
          "output_type": "display_data",
          "data": {
            "text/plain": [
              "plot without title"
            ],
            "image/png": "[encoded data removed]"
          },
          "metadata": {
            "image/png": {
              "width": 420,
              "height": 420
            }
          }
        }
      ]
    },
    {
      "cell_type": "code",
      "source": [
        "#Load necessary libraries\n",
        "library(ggplot2)\n",
        "library(readr)\n",
        "library(dplyr)\n",
        "library(lubridate)"
      ],
      "metadata": {
        "id": "RrGFJrQ1xrMp"
      },
      "execution_count": null,
      "outputs": []
    },
    {
      "cell_type": "code",
      "source": [
        "#Read the dataset\n",
        "data<-read.csv(\"/content/retail_sales_dataset.csv\")"
      ],
      "metadata": {
        "id": "rUCMkDbQyA1v"
      },
      "execution_count": null,
      "outputs": []
    },
    {
      "cell_type": "code",
      "source": [
        "#Convert date column (assuming it's  named \"Date\") to proper Date format\n",
        "data$Date<-as.Date(data$Date,format=\"%Y-%m-%d\")"
      ],
      "metadata": {
        "id": "aB-QqJYsyMqe"
      },
      "execution_count": null,
      "outputs": []
    },
    {
      "cell_type": "code",
      "source": [
        "#Add a 'Day' column(Monday,Tuesday,etc.)\n",
        "data$Day<-weekdays(data$Date)"
      ],
      "metadata": {
        "id": "i1Fyr678yoH7"
      },
      "execution_count": null,
      "outputs": []
    },
    {
      "cell_type": "code",
      "source": [
        "#Order the days (so they appear Monday to Sunday)\n",
        "ordered_days<-c(\"Monday\",\"Tuesday\",\"Wednesday\",\"Thursday\",\"Friday\",\"Saturday\",\"Sunday\")\n",
        "data$Day<-factor(data$Day,levels=ordered_days)"
      ],
      "metadata": {
        "id": "vRl8W2ygy6gO"
      },
      "execution_count": null,
      "outputs": []
    },
    {
      "cell_type": "code",
      "source": [
        "#Group by day and summarize total sales\n",
        "sales_by_day <- data %>%\n",
        "  group_by(Day) %>%\n",
        "  summarise(TotalSales = sum(Total.Amount, na.rm = TRUE))\n"
      ],
      "metadata": {
        "id": "_As4RpDA0Fmf"
      },
      "execution_count": null,
      "outputs": []
    },
    {
      "cell_type": "code",
      "source": [
        "#Plot\n",
        "ggplot(sales_by_day,aes(x=Day,y=TotalSales,fill=Day)) +\n",
        "  geom_bar(stat=\"identity\") +\n",
        "  labs(title=\"Total Sales by Day of the Week\",\n",
        "       x=\"Day\",\n",
        "       y=\"Total Sales\") +\n",
        "  theme_minimal() +\n",
        "  theme(legend.position=\"none\")"
      ],
      "metadata": {
        "colab": {
          "base_uri": "https://localhost:8080/",
          "height": 437
        },
        "id": "W1abwpm20cx2",
        "outputId": "b363639d-d753-4220-a09b-6a2ad6ba21c5"
      },
      "execution_count": null,
      "outputs": [
        {
          "output_type": "display_data",
          "data": {
            "text/plain": [
              "plot without title"
            ],
            "image/png": "[encoded data removed]"
          },
          "metadata": {
            "image/png": {
              "width": 420,
              "height": 420
            }
          }
        }
      ]
    },
    {
      "cell_type": "code",
      "source": [],
      "metadata": {
        "id": "nDk3wYZr1XBo"
      },
      "execution_count": null,
      "outputs": []
    },
    {
      "cell_type": "code",
      "source": [],
      "metadata": {
        "id": "0UEU8WW23UYh"
      },
      "execution_count": null,
      "outputs": []
    }
  ]
}